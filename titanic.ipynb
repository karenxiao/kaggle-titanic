{
 "cells": [
  {
   "cell_type": "markdown",
   "metadata": {},
   "source": [
    "# Kaggle Titanic Competition\n",
    "Karen Xiao\n",
    "\n",
    "5/6/2015"
   ]
  },
  {
   "cell_type": "markdown",
   "metadata": {},
   "source": [
    "##Loading in Data\n",
    "First, we will read in the data file titanic.csv and store it as a Numpy array. We will be using the csv package to read and write csv files and the Numpy package for some of its array and other functions."
   ]
  },
  {
   "cell_type": "code",
   "execution_count": 4,
   "metadata": {
    "collapsed": false
   },
   "outputs": [
    {
     "name": "stdout",
     "output_type": "stream",
     "text": [
      "['survived', 'name', 'sex', 'age', 'sibsp', 'parch', 'pclass', 'ticket', 'fare', 'cabin', 'embarked', 'boat', 'body', 'home.dest']\n",
      "['1' 'Allen, Miss. Elisabeth Walton' 'female' '29' '0' '0' '1' '24160'\n",
      " '211.3375' 'B5' 'S' '2' '' 'St Louis, MO']\n"
     ]
    }
   ],
   "source": [
    "import csv as csv \n",
    "import numpy as np\n",
    "\n",
    "raw_csv = csv.reader(open('titanic_full.csv', 'rb')) \n",
    "\n",
    "# skip the header\n",
    "header = raw_csv.next()  # The next() command just skips the \n",
    "\n",
    "# read in rows from the raw_csv file and store in data variable         \n",
    "data=[]                        \n",
    "for row in raw_csv:     \n",
    "    data.append(row)       \n",
    "data = np.array(data) \n",
    "\n",
    "print header\n",
    "print data[0]"
   ]
  },
  {
   "cell_type": "markdown",
   "metadata": {},
   "source": [
    "##Plotting the Data\n",
    "Now that we have the data loaded in, we can plot some initial data just to get a sense of what we have. Here we will use a plotting library called Matplotlib As a first hypothesis, we might look at the survival chances based on gender. "
   ]
  },
  {
   "cell_type": "code",
   "execution_count": 30,
   "metadata": {
    "collapsed": false,
    "scrolled": true
   },
   "outputs": [
    {
     "name": "stdout",
     "output_type": "stream",
     "text": [
      "Percentage of women who survived: 0.727467811159\n",
      "Percentage of men who survived: 0.190984578885\n"
     ]
    },
    {
     "data": {
      "image/png": "[encoded data removed]",
      "text/plain": [
       "<matplotlib.figure.Figure at 0x7f5ca2a67a10>"
      ]
     },
     "metadata": {},
     "output_type": "display_data"
    }
   ],
   "source": [
    "%matplotlib inline\n",
    "import matplotlib.pyplot as plt\n",
    "\n",
    "# define \"mask\" variables that can be applied on the data to filter on females in column 2\n",
    "female_mask = data[0::,2] == \"female\"\n",
    "male_mask = data[0::,2] != \"female\"\n",
    "\n",
    "women = data[female_mask,0].astype(np.float)     \n",
    "men = data[male_mask,0].astype(np.float)\n",
    "\n",
    "# calculate percentages\n",
    "print \"Percentage of women who survived: %s\" % (np.sum(women) / np.size(women))\n",
    "print \"Percentage of men who survived: %s\" % (np.sum(men) / np.size(men))\n",
    "\n",
    "# plot the data\n",
    "width = .5\n",
    "index = np.arange(2) + .25\n",
    "survived = [np.sum(women), np.sum(men)]\n",
    "died = [np.size(women) - np.sum(women), np.size(men) - np.sum(men)] \n",
    "\n",
    "plot_died = plt.bar(index, died, width, color='b')\n",
    "plot_survived = plt.bar(index, survived, width, color='r', bottom=died)   \n",
    "\n",
    "plt.title('Survivors by Sex')\n",
    "plt.ylabel('count')\n",
    "plt.xlabel('sex')\n",
    "plt.xticks(index+.25, ['female', 'male'])\n",
    "plt.legend((plot_died, plot_survived), ('not survive', 'survive'), bbox_to_anchor=(1.5, 1))\n",
    "\n",
    "plt.show()"
   ]
  },
  {
   "cell_type": "markdown",
   "metadata": {},
   "source": [
    "##A Simple Gender-based Model\n",
    "Now that we've looked at this dimension of the data, we can create a very basic model to predict whether a passenger will survive purely based off of their gender. Clearly, this model is not going to be particularly accurate, but it works as an initial exercise.\n",
    "\n",
    "We will go through a full exercise of reading in the data, applying our model, and outputting our prediction to a csv file in a format ready for submission to Kaggle. Unlike before, instead of using a Numpy array to store and manipulate our data, we will be using a Pandas DataFrame, which has some more sophisticated capabilities. "
   ]
  },
  {
   "cell_type": "code",
   "execution_count": 44,
   "metadata": {
    "collapsed": false
   },
   "outputs": [],
   "source": [
    "import pandas as pd\n",
    "\n",
    "# read in the data using the Pandas .read_csv function\n",
    "df = pd.read_csv('titanic_full.csv', header=0)\n",
    "\n",
    "# some useful commands to play around with the data\n",
    "# df.dtypes\n",
    "# df.info()\n",
    "# df.describe\n",
    "\n",
    "predictions = df.sex.map(lambda x: 1 if x==\"female\" else 0)\n",
    "predictions.to_csv('genderpredictions.csv')"
   ]
  },
  {
   "cell_type": "code",
   "execution_count": null,
   "metadata": {
    "collapsed": true
   },
   "outputs": [],
   "source": []
  }
 ],
 "metadata": {
  "kernelspec": {
   "display_name": "Python 2",
   "language": "python",
   "name": "python2"
  },
  "language_info": {
   "codemirror_mode": {
    "name": "ipython",
    "version": 2
   },
   "file_extension": ".py",
   "mimetype": "text/x-python",
   "name": "python",
   "nbconvert_exporter": "python",
   "pygments_lexer": "ipython2",
   "version": "2.7.9"
  }
 },
 "nbformat": 4,
 "nbformat_minor": 0
}
