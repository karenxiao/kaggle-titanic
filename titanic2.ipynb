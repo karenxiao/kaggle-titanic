{
 "cells": [
  {
   "cell_type": "markdown",
   "metadata": {},
   "source": [
    "# Kaggle Titanic Competition\n",
    "###Karen Xiao\n",
    "\n",
    "5/6/2015\n",
    "\n",
    "Python implementation of the Kaggle Titanic Competition: http://www.kaggle.com/c/titanic"
   ]
  },
  {
   "cell_type": "markdown",
   "metadata": {},
   "source": [
    "##Loading in Data\n",
    "First, we will read in the data file `titanic.csv` and store it as a Numpy array. We will be using the `csv` package to read and write csv files and the `Numpy` package for some of its array and other functions."
   ]
  },
  {
   "cell_type": "code",
   "execution_count": 2,
   "metadata": {
    "collapsed": false
   },
   "outputs": [
    {
     "name": "stdout",
     "output_type": "stream",
     "text": [
      "['survived', 'name', 'sex', 'age', 'sibsp', 'parch', 'pclass', 'ticket', 'fare', 'cabin', 'embarked', 'boat', 'body', 'home.dest']\n",
      "['1' 'Allen, Miss. Elisabeth Walton' 'female' '29' '0' '0' '1' '24160'\n",
      " '211.3375' 'B5' 'S' '2' '' 'St Louis, MO']\n"
     ]
    }
   ],
   "source": [
    "import csv as csv \n",
    "import numpy as np\n",
    "\n",
    "raw_csv = csv.reader(open('titanic_full.csv', 'rb')) \n",
    "\n",
    "# skip the header\n",
    "header = raw_csv.next()\n",
    "\n",
    "# read in rows from the raw_csv file and store in data variable         \n",
    "data=[]                        \n",
    "for row in raw_csv:     \n",
    "    data.append(row)       \n",
    "data = np.array(data) \n",
    "\n",
    "print header\n",
    "print data[0]"
   ]
  },
  {
   "cell_type": "markdown",
   "metadata": {},
   "source": [
    "##Plotting the Data\n",
    "Now that we have the data loaded in, we can plot some initial data just to get a sense of what we have. Here we will use a plotting library called `Matplotlib`. As a first hypothesis, we might look at the survival chances based on gender. "
   ]
  },
  {
   "cell_type": "code",
   "execution_count": 3,
   "metadata": {
    "collapsed": false,
    "scrolled": true
   },
   "outputs": [
    {
     "name": "stdout",
     "output_type": "stream",
     "text": [
      "Percentage of women who survived: 0.727467811159\n",
      "Percentage of men who survived: 0.190984578885\n"
     ]
    },
    {
     "data": {
      "image/png": "[encoded data removed]",
      "text/plain": [
       "<matplotlib.figure.Figure at 0x7f7481c6c710>"
      ]
     },
     "metadata": {},
     "output_type": "display_data"
    }
   ],
   "source": [
    "%matplotlib inline\n",
    "import matplotlib.pyplot as plt\n",
    "\n",
    "# define \"mask\" variables that can be applied on the data to filter on females in column 4\n",
    "female_mask = data[0::,2] == \"female\"\n",
    "male_mask = data[0::,2] != \"female\"\n",
    "\n",
    "women = data[female_mask,0].astype(np.float)     \n",
    "men = data[male_mask,0].astype(np.float)\n",
    "\n",
    "# calculate percentages\n",
    "print \"Percentage of women who survived: %s\" % (np.sum(women) / np.size(women))\n",
    "print \"Percentage of men who survived: %s\" % (np.sum(men) / np.size(men))\n",
    "\n",
    "# plot the data\n",
    "width = .5\n",
    "index = np.arange(2) + .25\n",
    "survived = [np.sum(women), np.sum(men)]\n",
    "died = [np.size(women) - np.sum(women), np.size(men) - np.sum(men)] \n",
    "\n",
    "plot_died = plt.bar(index, died, width, color='b')\n",
    "plot_survived = plt.bar(index, survived, width, color='r', bottom=died)   \n",
    "\n",
    "plt.title('Survivors by Gender')\n",
    "plt.ylabel('count')\n",
    "plt.xlabel('gender')\n",
    "plt.xticks(index+.25, ['female', 'male'])\n",
    "plt.legend((plot_died, plot_survived), ('not survive', 'survive'), bbox_to_anchor=(1.5, 1))\n",
    "\n",
    "plt.show()"
   ]
  },
  {
   "cell_type": "markdown",
   "metadata": {},
   "source": [
    "##A Simple Gender-based Model\n",
    "Now that we've looked at this dimension of the data, we can create a very basic model to predict whether a passenger will survive purely based off of their gender. Clearly, this model is not going to give us the best results, but it works as an initial exercise.\n",
    "\n",
    "The code below will read in the data, apply our model, and output our prediction to a csv file in a format ready for submission to Kaggle. Unlike before, instead of using a Numpy array to store and manipulate our data, we will be using a Pandas DataFrame, which has some more sophisticated capabilities. "
   ]
  },
  {
   "cell_type": "code",
   "execution_count": 116,
   "metadata": {
    "collapsed": false
   },
   "outputs": [
    {
     "data": {
      "text/plain": [
       "array([[682, 127],\n",
       "       [161, 339]])"
      ]
     },
     "execution_count": 116,
     "metadata": {},
     "output_type": "execute_result"
    }
   ],
   "source": [
    "import pandas as pd\n",
    "from sklearn.metrics import confusion_matrix\n",
    "\n",
    "# read in the data file and store as a DataFrame\n",
    "df = pd.read_csv('titanic_full.csv')\n",
    "\n",
    "# create prediction DataFrame with 'survived' set to 1 if the passenger is female\n",
    "predictions = df['sex'].map({'female': 1, 'male': 0})\n",
    "\n",
    "# evaluate our results with a confusion matrix\n",
    "confusion_matrix(df.survived.values, predictions, labels=[0,1])"
   ]
  },
  {
   "cell_type": "markdown",
   "metadata": {},
   "source": [
    "Based off our confusion matrix, we see that this model predicted death 682 times correctly and 127 incorrectly. And predicted survival 339 times correctly and 161 times incorrectly. This means our model is about 78% accurate. However, let's see if we can do better. "
   ]
  },
  {
   "cell_type": "markdown",
   "metadata": {
    "collapsed": true
   },
   "source": [
    "##Cleaning the Data\n",
    "At this point, we probably want to do something a little more complex and use more than just one paramter to make our predictions. However, taking a closer look at our data reveals a few gaps. Notice when we run the `df.info()` command, we find that `age, fare, cabin, embarked, boat, body` and `home.dest` are missing some values:"
   ]
  },
  {
   "cell_type": "code",
   "execution_count": 117,
   "metadata": {
    "collapsed": false,
    "scrolled": true
   },
   "outputs": [
    {
     "name": "stdout",
     "output_type": "stream",
     "text": [
      "<class 'pandas.core.frame.DataFrame'>\n",
      "Int64Index: 1309 entries, 0 to 1308\n",
      "Data columns (total 14 columns):\n",
      "survived     1309 non-null int64\n",
      "name         1309 non-null object\n",
      "sex          1309 non-null object\n",
      "age          1046 non-null float64\n",
      "sibsp        1309 non-null int64\n",
      "parch        1309 non-null int64\n",
      "pclass       1309 non-null int64\n",
      "ticket       1309 non-null object\n",
      "fare         1308 non-null float64\n",
      "cabin        295 non-null object\n",
      "embarked     1307 non-null object\n",
      "boat         486 non-null object\n",
      "body         121 non-null float64\n",
      "home.dest    745 non-null object\n",
      "dtypes: float64(3), int64(4), object(7)\n",
      "memory usage: 153.4+ KB\n"
     ]
    }
   ],
   "source": [
    "df.info()"
   ]
  },
  {
   "cell_type": "markdown",
   "metadata": {},
   "source": [
    "The decision now is what to fill the missing data with. We obviously don't want to just guess or fill it with random values because that will introduce a lot of noise into our data. Common options are to fill the data with the mean or median values for that column. "
   ]
  },
  {
   "cell_type": "code",
   "execution_count": 118,
   "metadata": {
    "collapsed": false
   },
   "outputs": [
    {
     "name": "stdout",
     "output_type": "stream",
     "text": [
      "<class 'pandas.core.frame.DataFrame'>\n",
      "Int64Index: 1309 entries, 0 to 1308\n",
      "Data columns (total 18 columns):\n",
      "survived      1309 non-null int64\n",
      "name          1309 non-null object\n",
      "sex           1309 non-null object\n",
      "age           1309 non-null float64\n",
      "sibsp         1309 non-null int64\n",
      "parch         1309 non-null int64\n",
      "pclass        1309 non-null int64\n",
      "ticket        1309 non-null object\n",
      "fare          1308 non-null float64\n",
      "cabin         295 non-null object\n",
      "embarked      1307 non-null object\n",
      "boat          486 non-null object\n",
      "body          121 non-null float64\n",
      "home.dest     745 non-null object\n",
      "gender        1309 non-null int64\n",
      "embarked_C    1309 non-null float64\n",
      "embarked_Q    1309 non-null float64\n",
      "embarked_S    1309 non-null float64\n",
      "dtypes: float64(6), int64(5), object(7)\n",
      "memory usage: 194.3+ KB\n"
     ]
    }
   ],
   "source": [
    "\"\"\"\n",
    "Function\n",
    "--------\n",
    "clean_missing_data\n",
    "\n",
    "Given a DataFrame, fill in the missing Age and Fare data with median values\n",
    "\n",
    "Inputs\n",
    "------\n",
    "df : DataFrame\n",
    "    The DataFrame object read in from the Kaggle Titanic train and test csv files\n",
    "\"\"\"    \n",
    "\n",
    "def clean_missing_data(df):\n",
    "\n",
    "    # ceate new column converting sex (female, male) stored as strings to gender (0, 1) stored as ints\n",
    "    df['gender'] = df.sex.map({'female': 0, 'male': 1}).astype(int)\n",
    "\n",
    "    # create our reference table for median ages based on passenger class and gender\n",
    "    median_ages = np.zeros((2, 3))\n",
    "    for i in range(2):\n",
    "        for j in range(3):\n",
    "            median_ages[i, j] = df[(df.gender == i) & (df.pclass == j+1)]['age'].dropna().median()\n",
    "\n",
    "    # fill in missing age values\n",
    "    for index, row in df[df['age'].isnull()].iterrows():\n",
    "        df.loc[index,'age'] = median_ages[row.gender][row.pclass-1]\n",
    "\n",
    "    # make embarked a useable column \n",
    "    embarked_new = pd.get_dummies(df.embarked, prefix=\"embarked\")\n",
    "    for i in range(len(embarked_new.columns)):\n",
    "        df.insert(len(df.columns), embarked_new.columns.values[i], embarked_new[embarked_new.columns.values[i]])\n",
    "    \n",
    "    return df\n",
    "\n",
    "# fill in the missing data \n",
    "df1 = clean_missing_data(df)\n",
    "df1.info()"
   ]
  },
  {
   "cell_type": "markdown",
   "metadata": {},
   "source": [
    "For the purposes of this exercise, and to more easily use the scikit-learn package, we don't want any non-numeric values. So using the `df.dtypes`, we find that the `name, sex, ticket, cabin, embarked, boat, home.dest` columns are of type object (which means string in Pandas). For now, since we don't need them, we will remove these columns. For the purposes of our next exercise, we will also remove `body`."
   ]
  },
  {
   "cell_type": "code",
   "execution_count": 119,
   "metadata": {
    "collapsed": false
   },
   "outputs": [
    {
     "name": "stdout",
     "output_type": "stream",
     "text": [
      "<class 'pandas.core.frame.DataFrame'>\n",
      "Int64Index: 1309 entries, 0 to 1308\n",
      "Data columns (total 9 columns):\n",
      "survived      1309 non-null int64\n",
      "age           1309 non-null float64\n",
      "sibsp         1309 non-null int64\n",
      "parch         1309 non-null int64\n",
      "pclass        1309 non-null int64\n",
      "gender        1309 non-null int64\n",
      "embarked_C    1309 non-null float64\n",
      "embarked_Q    1309 non-null float64\n",
      "embarked_S    1309 non-null float64\n",
      "dtypes: float64(4), int64(5)\n",
      "memory usage: 102.3 KB\n"
     ]
    }
   ],
   "source": [
    "# drop unneeded (non-numerical) columns\n",
    "clean_df = df1.drop(['name', 'sex', 'ticket', 'cabin', 'embarked', 'boat', 'home.dest', 'body', 'fare'], axis=1)\n",
    "clean_df.info()"
   ]
  },
  {
   "cell_type": "markdown",
   "metadata": {},
   "source": [
    "Now we have a nice and clean dataset! The last step is to split it into the train and test sets."
   ]
  },
  {
   "cell_type": "code",
   "execution_count": 120,
   "metadata": {
    "collapsed": false
   },
   "outputs": [],
   "source": [
    "from sklearn.cross_validation import train_test_split\n",
    "\n",
    "# split into test and train sets\n",
    "train_data, test_data = train_test_split(clean_df.values, test_size=0.3, random_state=42)\n",
    "\n",
    "# keep around the feature names\n",
    "features = clean_df.drop(['survived'], axis=1).columns.values"
   ]
  },
  {
   "cell_type": "markdown",
   "metadata": {},
   "source": [
    "Now that we have a clean data set that's in a consummable Numpy array format, we can start running it against some models."
   ]
  },
  {
   "cell_type": "markdown",
   "metadata": {},
   "source": [
    "##Logistic Regression\n",
    "Logistic regression usually works well for binary classifications. In this case, we are predicting if a passenger survived or didn't survive, so logistic regression is probably a good one to start with."
   ]
  },
  {
   "cell_type": "code",
   "execution_count": 218,
   "metadata": {
    "collapsed": false
   },
   "outputs": [
    {
     "name": "stdout",
     "output_type": "stream",
     "text": [
      "Score: 0.801526717557\n",
      "Confusion Matrix:\n",
      "[[204  20]\n",
      " [ 58 111]]\n",
      "Normalized Confusion Matrix:\n",
      "[[ 0.91071429  0.08928571]\n",
      " [ 0.34319527  0.65680473]]\n",
      "[[ 3.  1.  0.]\n",
      " [ 3.  1.  1.]\n",
      " [ 3.  1.  0.]\n",
      " ..., \n",
      " [ 2.  1.  0.]\n",
      " [ 3.  0.  0.]\n",
      " [ 2.  0.  1.]]\n"
     ]
    }
   ],
   "source": [
    "from sklearn.linear_model import LogisticRegression \n",
    "from sklearn.feature_selection import chi2\n",
    "\n",
    "# create the logistic regression object which will include all the parameters for the fit\n",
    "reg_clf = LogisticRegression()\n",
    "\n",
    "# fit the training data to the survived labels \n",
    "reg_clf = reg_clf.fit(train_data[0::,1::],train_data[0::,0])\n",
    "\n",
    "# run on the test data\n",
    "predictions = reg_clf.predict(test_data[0::,1::])\n",
    "\n",
    "# score the predictions\n",
    "score = reg_clf.score(test_data[0::,1::], test_data[0::,0])\n",
    "print \"Score: %s\" % score\n",
    "\n",
    "# print the confusion matrix\n",
    "print \"Confusion Matrix:\"\n",
    "cm = confusion_matrix(test_data[0::,0], predictions)\n",
    "print cm\n",
    "print \"Normalized Confusion Matrix:\"\n",
    "normalized = cm.astype('float') / cm.sum(axis=1)[:, np.newaxis]\n",
    "print normalized\n",
    "\n",
    "# # look at feature importance\n",
    "# coef = np.absolute(reg_clf.coef_[0])\n",
    "# indices = np.argsort(coef)[::-1]\n",
    "\n",
    "# # print the feature ranking\n",
    "# print(\"Feature ranking:\")\n",
    "# for f in range(len(indices)):\n",
    "#     print(\"%d. feature %d %s (%f)\" % (f + 1, indices[f], features[indices[f]], coef[indices[f]]))\n",
    "\n",
    "# chi2_val = chi2(train_data[0::,1::],train_data[0::,0])[0]\n",
    "# indices = np.argsort(chi2_val)[::-1]\n",
    "# print(\"Feature ranking:\")\n",
    "# for i in range(len(indices)):\n",
    "#     print(\"%d. feature %d %s (%f)\" % (i + 1, indices[i], features[indices[i]], chi2_val[indices[i]]))"
   ]
  },
  {
   "cell_type": "markdown",
   "metadata": {},
   "source": [
    "##Decision Trees\n",
    "Decision trees are also simple and tend to work well with classification problems, so we might also try a decision tree implementation. There are a number of parameters we can play with to help avoid overfitting. For example, we might limit the `max_depth` that a tree can be or the `max_features` that are used. There are also parameters to control the number of leaf nodes, splitting criteria, etc."
   ]
  },
  {
   "cell_type": "code",
   "execution_count": 205,
   "metadata": {
    "collapsed": false
   },
   "outputs": [
    {
     "name": "stdout",
     "output_type": "stream",
     "text": [
      "Score: 0.745547073791\n",
      "Confusion Matrix:\n",
      "[[202  22]\n",
      " [ 78  91]]\n",
      "Normalized Confusion Matrix:\n",
      "[[ 0.90178571  0.09821429]\n",
      " [ 0.46153846  0.53846154]]\n",
      "Feature ranking:\n",
      "1. feature 4 gender (0.541980)\n",
      "2. feature 3 pclass (0.223160)\n",
      "3. feature 2 parch (0.074083)\n",
      "4. feature 0 age (0.073877)\n",
      "5. feature 5 embarked_C (0.060694)\n",
      "6. feature 6 embarked_Q (0.016687)\n",
      "7. feature 7 embarked_S (0.009086)\n",
      "8. feature 1 sibsp (0.000434)\n"
     ]
    }
   ],
   "source": [
    "from sklearn import tree\n",
    "\n",
    "tree_clf = tree.DecisionTreeClassifier(max_features='log2', max_depth=4)\n",
    "tree_clf = tree_clf.fit(train_data[0::,1::],train_data[0::,0])\n",
    "predictions = tree_clf.predict(test_data[0::,1::])\n",
    "score = tree_clf.score(test_data[0::,1::], test_data[0::,0])\n",
    "print \"Score: %s\" % score\n",
    "\n",
    "# print the confusion matrix\n",
    "print \"Confusion Matrix:\"\n",
    "cm = confusion_matrix(test_data[0::,0], predictions)\n",
    "print cm\n",
    "print \"Normalized Confusion Matrix:\"\n",
    "normalized = cm.astype('float') / cm.sum(axis=1)[:, np.newaxis]\n",
    "print normalized\n",
    "\n",
    "# export image of the tree created\n",
    "from sklearn.externals.six import StringIO\n",
    "with open(\"tree.dot\", 'w') as f:\n",
    "    f = tree.export_graphviz(tree_clf, out_file=f, feature_names=features)\n",
    "# then in the terminal, run \"dot -Tpng tree.dot -o tree.png\"\n",
    "\n",
    "# look at feature importance\n",
    "importances = tree_clf.feature_importances_\n",
    "indices = np.argsort(importances)[::-1]\n",
    "\n",
    "print(\"Feature ranking:\")\n",
    "for f in range(len(indices)):\n",
    "    print(\"%d. feature %d %s (%f)\" % (f + 1, indices[f], features[indices[f]], importances[indices[f]]))"
   ]
  },
  {
   "cell_type": "markdown",
   "metadata": {},
   "source": [
    "##Random Forest\n",
    "Decision trees don't always work well with certain datasets because they can overfit to the training set, so we might use an ensemble learning method like random forests that create many different decision trees and predict the result based on the results of the individual trees. Similar to before, we can play around with parameters like `max_features` and `max_depth`"
   ]
  },
  {
   "cell_type": "code",
   "execution_count": 227,
   "metadata": {
    "collapsed": false
   },
   "outputs": [
    {
     "name": "stdout",
     "output_type": "stream",
     "text": [
      "Max Depth: 1, Score: 0.636132315522\n",
      "Max Depth: 2, Score: 0.727735368957\n",
      "Max Depth: 3, Score: 0.760814249364\n",
      "Max Depth: 4, Score: 0.783715012723\n",
      "Max Depth: 5, Score: 0.788804071247\n",
      "Max Depth: 6, Score: 0.796437659033\n",
      "Max Depth: 7, Score: 0.793893129771\n",
      "Max Depth: 8, Score: 0.783715012723\n",
      "Max Depth: 9, Score: 0.773536895674\n",
      "Max Depth: 10, Score: 0.776081424936\n",
      "Score: 0.793893129771\n",
      "Confusion Matrix:\n",
      "[[212  12]\n",
      " [ 69 100]]\n",
      "Normalized Confusion Matrix:\n",
      "[[ 0.94642857  0.05357143]\n",
      " [ 0.40828402  0.59171598]]\n",
      "Feature ranking:\n",
      "1. feature 4 gender (0.487226)\n",
      "2. feature 3 pclass (0.212635)\n",
      "3. feature 0 age (0.110603)\n",
      "4. feature 2 parch (0.060330)\n",
      "5. feature 1 sibsp (0.053791)\n",
      "6. feature 5 embarked_C (0.040705)\n",
      "7. feature 7 embarked_S (0.023155)\n",
      "8. feature 6 embarked_Q (0.011556)\n"
     ]
    },
    {
     "data": {
      "image/png": "[encoded data removed]",
      "text/plain": [
       "<matplotlib.figure.Figure at 0x7f747b1a5c90>"
      ]
     },
     "metadata": {},
     "output_type": "display_data"
    }
   ],
   "source": [
    "from sklearn.ensemble import RandomForestClassifier \n",
    "\n",
    "# try out different values for max_depth\n",
    "for i in range(1,11):\n",
    "    forest = RandomForestClassifier(n_estimators = 100, max_features='auto', max_depth=i)\n",
    "    forest = forest.fit(train_data[0::,1::],train_data[0::,0])\n",
    "    score = forest.score(test_data[0::,1::], test_data[0::,0])\n",
    "    print \"Max Depth: %s, Score: %s\" % (i, score)\n",
    "\n",
    "# use most optimal \n",
    "forest = RandomForestClassifier(n_estimators = 100, max_features='auto', max_depth=4)\n",
    "forest = forest.fit(train_data[0::,1::],train_data[0::,0])\n",
    "predictions = forest.predict(test_data[0::,1::])\n",
    "score = forest.score(test_data[0::,1::], test_data[0::,0])\n",
    "print \"Score: %s\" % (score)\n",
    "    \n",
    "# print the confusion matrix\n",
    "print \"Confusion Matrix:\"\n",
    "cm = confusion_matrix(test_data[0::,0], predictions)\n",
    "print cm\n",
    "print \"Normalized Confusion Matrix:\"\n",
    "normalized = cm.astype('float') / cm.sum(axis=1)[:, np.newaxis]\n",
    "print normalized\n",
    "\n",
    "# look at feature importance\n",
    "importances = forest.feature_importances_\n",
    "std = np.std([tree.feature_importances_ for tree in forest.estimators_],\n",
    "             axis=0)\n",
    "indices = np.argsort(importances)[::-1]\n",
    "\n",
    "# print the feature ranking\n",
    "print(\"Feature ranking:\")\n",
    "sorted_features = []\n",
    "for f in range(len(indices)):\n",
    "    print(\"%d. feature %d %s (%f)\" % (f + 1, indices[f], features[indices[f]], importances[indices[f]]))\n",
    "    sorted_features.append(features[indices[f]])\n",
    "\n",
    "# plot the feature importances of the forest\n",
    "plt.figure()\n",
    "plt.title(\"Feature importances\")\n",
    "plt.bar(range(len(indices)), importances[indices],\n",
    "       color=\"r\", yerr=std[indices], align=\"center\")\n",
    "plt.xticks(range(len(indices)), sorted_features, rotation=70)\n",
    "plt.xlim([-1, len(indices)])\n",
    "plt.show()"
   ]
  },
  {
   "cell_type": "markdown",
   "metadata": {
    "collapsed": true
   },
   "source": [
    "##Support Vector Machine\n",
    "Support Vector Machines (SVM) are also good at performing classification. Here we use a linear SVM to predict. "
   ]
  },
  {
   "cell_type": "code",
   "execution_count": 207,
   "metadata": {
    "collapsed": false
   },
   "outputs": [
    {
     "name": "stdout",
     "output_type": "stream",
     "text": [
      "Score: 0.788804071247\n",
      "Confusion Matrix:\n",
      "[[196  28]\n",
      " [ 55 114]]\n",
      "Normalized Confusion Matrix:\n",
      "[[ 0.875       0.125     ]\n",
      " [ 0.32544379  0.67455621]]\n",
      "Feature ranking:\n",
      "1. feature 4 gender (2.000041)\n",
      "2. feature 1 sibsp (0.000229)\n",
      "3. feature 3 pclass (0.000160)\n",
      "4. feature 7 embarked_S (0.000068)\n",
      "5. feature 5 embarked_C (0.000066)\n",
      "6. feature 2 parch (0.000049)\n",
      "7. feature 0 age (0.000015)\n",
      "8. feature 6 embarked_Q (0.000002)\n"
     ]
    }
   ],
   "source": [
    "from sklearn import svm \n",
    "\n",
    "svm_clf = svm.SVC(kernel='linear')\n",
    "svm_clf = svm_clf.fit(train_data[0::,1::],train_data[0::,0])\n",
    "predictions = svm_clf.predict(test_data[0::,1::])\n",
    "score = svm_clf.score(test_data[0::,1::], test_data[0::,0])\n",
    "print \"Score: %s\" % score\n",
    "\n",
    "# print the confusion matrix\n",
    "print \"Confusion Matrix:\"\n",
    "cm = confusion_matrix(test_data[0::,0], predictions)\n",
    "print cm\n",
    "print \"Normalized Confusion Matrix:\"\n",
    "normalized = cm.astype('float') / cm.sum(axis=1)[:, np.newaxis]\n",
    "print normalized\n",
    "\n",
    "# # look at feature importance\n",
    "# coef = np.absolute(svm_clf.coef_[0])\n",
    "# indices = np.argsort(coef)[::-1]\n",
    "\n",
    "# print(\"Feature ranking:\")\n",
    "# for f in range(len(indices)):\n",
    "#     print(\"%d. feature %d %s (%f)\" % (f + 1, indices[f], features[indices[f]], coef[indices[f]]))"
   ]
  },
  {
   "cell_type": "code",
   "execution_count": null,
   "metadata": {
    "collapsed": true
   },
   "outputs": [],
   "source": []
  }
 ],
 "metadata": {
  "kernelspec": {
   "display_name": "Python 2",
   "language": "python",
   "name": "python2"
  },
  "language_info": {
   "codemirror_mode": {
    "name": "ipython",
    "version": 2
   },
   "file_extension": ".py",
   "mimetype": "text/x-python",
   "name": "python",
   "nbconvert_exporter": "python",
   "pygments_lexer": "ipython2",
   "version": "2.7.9"
  }
 },
 "nbformat": 4,
 "nbformat_minor": 0
}
