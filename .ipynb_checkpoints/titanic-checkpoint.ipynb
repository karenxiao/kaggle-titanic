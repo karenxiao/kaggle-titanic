{
 "cells": [
  {
   "cell_type": "markdown",
   "metadata": {},
   "source": [
    "# Kaggle Titanic Competition\n",
    "###Karen Xiao\n",
    "\n",
    "5/6/2015"
   ]
  },
  {
   "cell_type": "markdown",
   "metadata": {},
   "source": [
    "##Loading in Data\n",
    "First, we will read in the data file `titanic.csv` and store it as a Numpy array. We will be using the `csv` package to read and write csv files and the `Numpy` package for some of its array and other functions."
   ]
  },
  {
   "cell_type": "code",
   "execution_count": 220,
   "metadata": {
    "collapsed": false
   },
   "outputs": [
    {
     "name": "stdout",
     "output_type": "stream",
     "text": [
      "['survived', 'name', 'sex', 'age', 'sibsp', 'parch', 'pclass', 'ticket', 'fare', 'cabin', 'embarked', 'boat', 'body', 'home.dest']\n",
      "['1' 'Allen, Miss. Elisabeth Walton' 'female' '29' '0' '0' '1' '24160'\n",
      " '211.3375' 'B5' 'S' '2' '' 'St Louis, MO']\n"
     ]
    }
   ],
   "source": [
    "import csv as csv \n",
    "import numpy as np\n",
    "\n",
    "raw_csv = csv.reader(open('train.csv', 'rb')) \n",
    "\n",
    "# skip the header\n",
    "header = raw_csv.next()\n",
    "\n",
    "# read in rows from the raw_csv file and store in data variable         \n",
    "data=[]                        \n",
    "for row in raw_csv:     \n",
    "    data.append(row)       \n",
    "data = np.array(data) \n",
    "\n",
    "print header\n",
    "print data[0]"
   ]
  },
  {
   "cell_type": "markdown",
   "metadata": {},
   "source": [
    "##Plotting the Data\n",
    "Now that we have the data loaded in, we can plot some initial data just to get a sense of what we have. Here we will use a plotting library called `Matplotlib`. As a first hypothesis, we might look at the survival chances based on gender. "
   ]
  },
  {
   "cell_type": "code",
   "execution_count": 7,
   "metadata": {
    "collapsed": false,
    "scrolled": true
   },
   "outputs": [
    {
     "name": "stdout",
     "output_type": "stream",
     "text": [
      "Percentage of women who survived: 0.742038216561\n",
      "Percentage of men who survived: 0.188908145581\n"
     ]
    },
    {
     "data": {
      "image/png": "[encoded data removed]",
      "text/plain": [
       "<matplotlib.figure.Figure at 0x7fb1352e1050>"
      ]
     },
     "metadata": {},
     "output_type": "display_data"
    }
   ],
   "source": [
    "%matplotlib inline\n",
    "import matplotlib.pyplot as plt\n",
    "\n",
    "# define \"mask\" variables that can be applied on the data to filter on females in column 4\n",
    "female_mask = data[0::,4] == \"female\"\n",
    "male_mask = data[0::,4] != \"female\"\n",
    "\n",
    "women = data[female_mask,1].astype(np.float)     \n",
    "men = data[male_mask,1].astype(np.float)\n",
    "\n",
    "# calculate percentages\n",
    "print \"Percentage of women who survived: %s\" % (np.sum(women) / np.size(women))\n",
    "print \"Percentage of men who survived: %s\" % (np.sum(men) / np.size(men))\n",
    "\n",
    "# plot the data\n",
    "width = .5\n",
    "index = np.arange(2) + .25\n",
    "survived = [np.sum(women), np.sum(men)]\n",
    "died = [np.size(women) - np.sum(women), np.size(men) - np.sum(men)] \n",
    "\n",
    "plot_died = plt.bar(index, died, width, color='b')\n",
    "plot_survived = plt.bar(index, survived, width, color='r', bottom=died)   \n",
    "\n",
    "plt.title('Survivors by Sex')\n",
    "plt.ylabel('count')\n",
    "plt.xlabel('sex')\n",
    "plt.xticks(index+.25, ['female', 'male'])\n",
    "plt.legend((plot_died, plot_survived), ('not survive', 'survive'), bbox_to_anchor=(1.5, 1))\n",
    "\n",
    "plt.show()"
   ]
  },
  {
   "cell_type": "markdown",
   "metadata": {},
   "source": [
    "##A Simple Gender-based Model\n",
    "Now that we've looked at this dimension of the data, we can create a very basic model to predict whether a passenger will survive purely based off of their gender. Clearly, this model is not going to give us the best results, but it works as an initial exercise.\n",
    "\n",
    "The code below will read in the data, apply our model, and output our prediction to a csv file in a format ready for submission to Kaggle. Unlike before, instead of using a Numpy array to store and manipulate our data, we will be using a Pandas DataFrame, which has some more sophisticated capabilities. "
   ]
  },
  {
   "cell_type": "code",
   "execution_count": 147,
   "metadata": {
    "collapsed": false
   },
   "outputs": [],
   "source": [
    "import pandas as pd\n",
    "\n",
    "# read in the data using the Pandas .read_csv function\n",
    "raw_data = pd.read_csv('train.csv', header=0)\n",
    "\n",
    "# create prediction DataFrame with 'Survived' set to 1 if the passenger is female\n",
    "predictions = pd.DataFrame({'PassengerId': raw_data.PassengerId, 'Survived': raw_data.Sex.map({'female': 1, 'male': 0})})\n",
    "\n",
    "# write the resulting predictions to a csv file\n",
    "predictions.to_csv('genderpredictions.csv', index=False)"
   ]
  },
  {
   "cell_type": "markdown",
   "metadata": {
    "collapsed": true
   },
   "source": [
    "##Cleaning the Data\n",
    "At this point, we probably want to do something a little more complex and use more than just one paramter to make our predictions. However, taking a closer look at our data reveals a few gaps. Notice when we run the `df.info()` command, we find that `Age, Fare,` and `Cabin` are missing some values:"
   ]
  },
  {
   "cell_type": "code",
   "execution_count": 149,
   "metadata": {
    "collapsed": false
   },
   "outputs": [
    {
     "name": "stdout",
     "output_type": "stream",
     "text": [
      "<class 'pandas.core.frame.DataFrame'>\n",
      "Int64Index: 891 entries, 0 to 890\n",
      "Data columns (total 12 columns):\n",
      "PassengerId    891 non-null int64\n",
      "Survived       891 non-null int64\n",
      "Pclass         891 non-null int64\n",
      "Name           891 non-null object\n",
      "Sex            891 non-null object\n",
      "Age            714 non-null float64\n",
      "SibSp          891 non-null int64\n",
      "Parch          891 non-null int64\n",
      "Ticket         891 non-null object\n",
      "Fare           891 non-null float64\n",
      "Cabin          204 non-null object\n",
      "Embarked       889 non-null object\n",
      "dtypes: float64(2), int64(5), object(5)\n",
      "memory usage: 90.5+ KB\n"
     ]
    }
   ],
   "source": [
    "raw_data.info()"
   ]
  },
  {
   "cell_type": "markdown",
   "metadata": {},
   "source": [
    "The decision now is what to fill the missing data with. We obviously don't want to just guess or fill it with random values because that will introduce a lot of noise into our data. Other common options are to fill the gaps with the mean or median values of that parameter. But we're going to get a little fancier. \n",
    "\n",
    "To fill in the missing `Age` data, we're going to find the age typical to each gender and passenger class using a 2 x 3 reference table (for 2 genders and 3 passenger classes). For `Fares`, we might expect the median fare to be fairly closely correlated with the passenger class, so we calculate the median fares for each class and fill in the data appropriately. Below we have written a function to do this:"
   ]
  },
  {
   "cell_type": "code",
   "execution_count": 184,
   "metadata": {
    "collapsed": false
   },
   "outputs": [],
   "source": [
    "\"\"\"\n",
    "Function\n",
    "--------\n",
    "clean_missing_data\n",
    "\n",
    "Given a DataFrame, fill in the missing Age and Fare data with median values\n",
    "\n",
    "Inputs\n",
    "------\n",
    "df : DataFrame\n",
    "    The DataFrame object read in from the Kaggle Titanic train and test csv files\n",
    "\"\"\"    \n",
    "\n",
    "def clean_missing_data(df):\n",
    "\n",
    "    # ceate new column converting Sex (female, male) stored as strings to Gender (0, 1) stored as ints\n",
    "    df['Gender'] = df.Sex.map({'female': 0, 'male': 1}).astype(int)\n",
    "\n",
    "    # create our reference table for median ages based on passenger class and gender\n",
    "    median_ages = np.zeros((2, 3))\n",
    "    for i in range(2):\n",
    "        for j in range(3):\n",
    "            median_ages[i, j] = df[(df.Gender == i) & (df.Pclass == j+1)]['Age'].dropna().median()\n",
    "\n",
    "    # fill in null values\n",
    "    for index, row in df[df['Age'].isnull()].iterrows():\n",
    "        df.loc[index,'Age'] = median_ages[row.Gender][row.Pclass-1]\n",
    "\n",
    "    # calculate median fares for each passenger class\n",
    "    median_fares = np.zeros(3)\n",
    "    for i in range(3):\n",
    "        median_fares[i] = df[df.Pclass == i+1]['Fare'].dropna().median()\n",
    "\n",
    "    # fill in null values\n",
    "    for index, row in df[df['Fare'].isnull()].iterrows():\n",
    "        df.loc[index,'Fare'] = median_fares[row.Pclass-1] \n",
    "        \n",
    "    return df\n",
    "\n",
    "# read in our test and train datasets and store as DataFrames\n",
    "train_csv = pd.read_csv('train.csv', header=0)\n",
    "test_csv = pd.read_csv('test.csv', header=0)\n",
    "\n",
    "# fill in the missing data\n",
    "train_clean = clean_missing_data(train_csv)\n",
    "test_clean = clean_missing_data(test_csv)"
   ]
  },
  {
   "cell_type": "markdown",
   "metadata": {},
   "source": [
    "For the purposes of this exercise, and to more easily use the scikit-learn package, we don't want any non-numeric values. So using the `df.dtypes`, we find that the `Name, Sex, Ticket, Cabin,` and `Embarked` columns are of type object (which means string in Pandas). For now, since we don't need them, we will remove these columns. For the purposes of our next exercise, we will also remove `PassengerId`."
   ]
  },
  {
   "cell_type": "code",
   "execution_count": 185,
   "metadata": {
    "collapsed": false
   },
   "outputs": [],
   "source": [
    "# keep a copy of the passenger ids for later\n",
    "passenger_ids = test_clean.PassengerId.values\n",
    "\n",
    "# drop unneeded (non-numerical) columns\n",
    "train_clean = train_clean.drop(['PassengerId', 'Name', 'Sex', 'Ticket', 'Cabin', 'Embarked'], axis=1) \n",
    "test_clean = test_clean.drop(['PassengerId', 'Name', 'Sex', 'Ticket', 'Cabin', 'Embarked'], axis=1) "
   ]
  },
  {
   "cell_type": "markdown",
   "metadata": {},
   "source": [
    "Now we have a nice and clean dataset! The last step is to convert this to a Numpy array so it is consummable by `sklearn`"
   ]
  },
  {
   "cell_type": "code",
   "execution_count": 219,
   "metadata": {
    "collapsed": false
   },
   "outputs": [
    {
     "ename": "AttributeError",
     "evalue": "'numpy.ndarray' object has no attribute 'head'",
     "output_type": "error",
     "traceback": [
      "\u001b[1;31m---------------------------------------------------------------------------\u001b[0m",
      "\u001b[1;31mAttributeError\u001b[0m                            Traceback (most recent call last)",
      "\u001b[1;32m<ipython-input-219-9186b0ba614f>\u001b[0m in \u001b[0;36m<module>\u001b[1;34m()\u001b[0m\n\u001b[0;32m      4\u001b[0m \u001b[1;33m\u001b[0m\u001b[0m\n\u001b[0;32m      5\u001b[0m \u001b[1;31m# print out the result\u001b[0m\u001b[1;33m\u001b[0m\u001b[1;33m\u001b[0m\u001b[0m\n\u001b[1;32m----> 6\u001b[1;33m \u001b[0mtrain_data\u001b[0m\u001b[1;33m.\u001b[0m\u001b[0mhead\u001b[0m\u001b[1;33m(\u001b[0m\u001b[1;33m)\u001b[0m\u001b[1;33m\u001b[0m\u001b[0m\n\u001b[0m",
      "\u001b[1;31mAttributeError\u001b[0m: 'numpy.ndarray' object has no attribute 'head'"
     ]
    }
   ],
   "source": [
    "# convert to Numpy array\n",
    "train_data = train_clean.values\n",
    "test_data = test_clean.values\n",
    "\n",
    "# print out the result\n",
    "train_data.head()"
   ]
  },
  {
   "cell_type": "markdown",
   "metadata": {},
   "source": [
    "Now that we have a clean data set that's in a consummable Numpy array format, we can start running it against some models."
   ]
  },
  {
   "cell_type": "markdown",
   "metadata": {},
   "source": [
    "##Logistic Regression\n",
    "Logistic regression usually works well for binary classifications. In this case, we are predicting if a passenger survived or didn't survive, so logistic regression is probably a good one to start with."
   ]
  },
  {
   "cell_type": "code",
   "execution_count": 207,
   "metadata": {
    "collapsed": false
   },
   "outputs": [],
   "source": [
    "from sklearn.linear_model import LogisticRegression \n",
    "\n",
    "# create the logistic regression object which will include all the parameters for the fit\n",
    "regression = LogisticRegression()\n",
    "\n",
    "# fit the training data to the Survived labels \n",
    "regression = regression.fit(train_data[0::,1::],train_data[0::,0])\n",
    "\n",
    "# run on the test data\n",
    "predictions = regression.predict(test_data)\n",
    "\n",
    "# format to be submittable to Kaggle and write out to csv\n",
    "predictions_file = open(\"regressionpredictions.csv\", \"wb\")\n",
    "file_writer = csv.writer(predictions_file)\n",
    "file_writer.writerow([\"PassengerId\",\"Survived\"])\n",
    "file_writer.writerows(zip(passenger_ids, predictions.astype(int)))\n",
    "predictions_file.close()"
   ]
  },
  {
   "cell_type": "markdown",
   "metadata": {},
   "source": [
    "##Decision Trees\n",
    "Decision trees are also simple and tend to work well with classification problems, so we might also try a decision tree implementation."
   ]
  },
  {
   "cell_type": "code",
   "execution_count": 218,
   "metadata": {
    "collapsed": false
   },
   "outputs": [],
   "source": [
    "from sklearn import tree\n",
    "\n",
    "classifier = tree.DecisionTreeClassifier()\n",
    "classifier = classifier.fit(train_data[0::,1::],train_data[0::,0])\n",
    "predictions = classifier.predict(test_data)\n",
    "\n",
    "# format to be submittable to Kaggle and write out to csv\n",
    "predictions_file = open(\"treepredictions.csv\", \"wb\")\n",
    "file_writer = csv.writer(predictions_file)\n",
    "file_writer.writerow([\"PassengerId\",\"Survived\"])\n",
    "file_writer.writerows(zip(passenger_ids, predictions.astype(int)))\n",
    "predictions_file.close()\n",
    "\n",
    "# plot the tree created\n",
    "from sklearn.externals.six import StringIO\n",
    "with open(\"tree.dot\", 'w') as f:\n",
    "    f = tree.export_graphviz(classifier, out_file=f)\n",
    "# then in the terminal, run \"dot -Tpng tree.dot -o tree.png\""
   ]
  },
  {
   "cell_type": "code",
   "execution_count": null,
   "metadata": {
    "collapsed": true
   },
   "outputs": [],
   "source": []
  },
  {
   "cell_type": "markdown",
   "metadata": {},
   "source": [
    "##Random Forest\n",
    "Decision trees don't always work well with certain datasets because they can overfit to the training set, so we might use an ensemble learning method like random forests that create many different decision trees and predict the result based on the results of the individual trees. "
   ]
  },
  {
   "cell_type": "code",
   "execution_count": 201,
   "metadata": {
    "collapsed": false
   },
   "outputs": [],
   "source": [
    "from sklearn.ensemble import RandomForestClassifier \n",
    "\n",
    "forest = RandomForestClassifier(n_estimators = 100)\n",
    "forest = forest.fit(train_data[0::,1::],train_data[0::,0])\n",
    "predictions = forest.predict(test_data)\n",
    "\n",
    "# format to be submittable to Kaggle and write out to csv\n",
    "predictions_file = open(\"forestpredictions.csv\", \"wb\")\n",
    "file_writer = csv.writer(predictions_file)\n",
    "file_writer.writerow([\"PassengerId\",\"Survived\"])\n",
    "file_writer.writerows(zip(passenger_ids, predictions.astype(int)))\n",
    "predictions_file.close()"
   ]
  },
  {
   "cell_type": "code",
   "execution_count": null,
   "metadata": {
    "collapsed": true
   },
   "outputs": [],
   "source": []
  }
 ],
 "metadata": {
  "kernelspec": {
   "display_name": "Python 2",
   "language": "python",
   "name": "python2"
  },
  "language_info": {
   "codemirror_mode": {
    "name": "ipython",
    "version": 2
   },
   "file_extension": ".py",
   "mimetype": "text/x-python",
   "name": "python",
   "nbconvert_exporter": "python",
   "pygments_lexer": "ipython2",
   "version": "2.7.9"
  }
 },
 "nbformat": 4,
 "nbformat_minor": 0
}
